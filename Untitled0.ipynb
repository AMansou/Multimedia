{
  "nbformat": 4,
  "nbformat_minor": 0,
  "metadata": {
    "colab": {
      "name": "Untitled0.ipynb",
      "provenance": [],
      "authorship_tag": "ABX9TyNoKy/YOD2Zc+DSKhiAqsrH",
      "include_colab_link": true
    },
    "kernelspec": {
      "name": "python3",
      "display_name": "Python 3"
    },
    "language_info": {
      "name": "python"
    }
  },
  "cells": [
    {
      "cell_type": "markdown",
      "metadata": {
        "id": "view-in-github",
        "colab_type": "text"
      },
      "source": [
        "<a href=\"https://colab.research.google.com/github/AMansou/Multimedia/blob/main/Untitled0.ipynb\" target=\"_parent\"><img src=\"https://colab.research.google.com/assets/colab-badge.svg\" alt=\"Open In Colab\"/></a>"
      ]
    },
    {
      "cell_type": "markdown",
      "metadata": {
        "id": "F3jmLdp8BCNJ"
      },
      "source": [
        "In this assignment, we were asked to use ffmpeg function to change the QP of an input video. The QP (or Quantization Parameter) allows direct configuration of the video QP used. A lower QP will result in better video quality with a larger file. A Higher QP will result in lower video quality, more compression and a smaller file."
      ]
    },
    {
      "cell_type": "markdown",
      "metadata": {
        "id": "1xQ2eAs3CM6z"
      },
      "source": [
        "All files have been uploaded to this colab to demonstarte this."
      ]
    }
  ]
}