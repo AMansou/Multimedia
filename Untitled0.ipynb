{
  "nbformat": 4,
  "nbformat_minor": 0,
  "metadata": {
    "colab": {
      "name": "Untitled0.ipynb",
      "provenance": [],
      "authorship_tag": "ABX9TyNVfmBx1SWAovOvWVMgUkWX",
      "include_colab_link": true
    },
    "kernelspec": {
      "name": "python3",
      "display_name": "Python 3"
    },
    "language_info": {
      "name": "python"
    }
  },
  "cells": [
    {
      "cell_type": "markdown",
      "metadata": {
        "id": "view-in-github",
        "colab_type": "text"
      },
      "source": [
        "<a href=\"https://colab.research.google.com/github/AMansou/Multimedia/blob/main/Untitled0.ipynb\" target=\"_parent\"><img src=\"https://colab.research.google.com/assets/colab-badge.svg\" alt=\"Open In Colab\"/></a>"
      ]
    },
    {
      "cell_type": "markdown",
      "metadata": {
        "id": "2R7d2x8Sbb3e"
      },
      "source": [
        "# DCT transform and Compression\n",
        "Video codecs seek to represent a fundamentally analog data set in a digital format. Some amount of spatial and temporal downsampling may also be used to reduce the raw data rate before the basic encoding process. The most popular encoding transform is the 8x8 DCT. Codecs which make use of a wavelet transform are also entering the market, especially in camera workflows which involve dealing with RAW image formatting in motion sequences. This process involves representing the video image as a set of macroblocks. For more information about this critical facet of video codec design, see B-frames.\n",
        "\n",
        "The output of the transform is first quantized, then entropy encoding is applied to the quantized values. When a DCT has been used, the coefficients are typically scanned using a zig-zag scan order, and the entropy coding typically combines a number of consecutive zero-valued quantized coefficients with the value of the next non-zero quantized coefficient into a single symbol, and also has special ways of indicating when all of the remaining quantized coefficient values are equal to zero. The entropy coding method typically uses variable-length coding tables. Some encoders compress the video in a multiple step process called n-pass encoding (e.g. 2-pass), which performs a slower but potentially higher quality compression.The purpose of the zigzag scan is to group the low frequency coefficients of the 8x8 matrix.\n",
        "\n",
        "**Procedure**\n",
        "\n",
        "The aim of this experiment is to demonstrate how compression can be acheived by using DCT then truning some coefficients to zeros.\n",
        "\n",
        "First, import the needed libraries."
      ]
    },
    {
      "cell_type": "code",
      "metadata": {
        "id": "TwK5DuPYgBhC"
      },
      "source": [
        "import matplotlib.pyplot as plt\n",
        "import numpy as np\n",
        "from PIL import Image\n",
        "from scipy.fftpack import dct,idct"
      ],
      "execution_count": null,
      "outputs": []
    },
    {
      "cell_type": "markdown",
      "metadata": {
        "id": "iY6n24Rzg0Hs"
      },
      "source": [
        "Next, one should read the image file using the methods from the Image library included in the PIL package. The image should be converted to greyscale fro simplification purposes, since dealing with an RBG image will have us dealing with a 3-D matrix."
      ]
    },
    {
      "cell_type": "code",
      "metadata": {
        "id": "bps-XZzBhD8N"
      },
      "source": [
        "img = Image.open('1.png').convert('L')\n",
        "\n"
      ],
      "execution_count": null,
      "outputs": []
    },
    {
      "cell_type": "markdown",
      "metadata": {
        "id": "JNxUjkKThe65"
      },
      "source": [
        "In order to be able to handle the image one 8x8 pixel block at a time, we must first make sure that its dimensions allows this to happen.  both height and width should be equal to one another, and both should be a multiple of 8. So an image of dimensions 1920x1080 should be cropped to be 1080x1080."
      ]
    },
    {
      "cell_type": "code",
      "metadata": {
        "id": "-ScmpSuZiYOM"
      },
      "source": [
        "width, height=img.size\n",
        "if width> height:\n",
        "    size=height\n",
        "else:\n",
        "    size=width\n",
        "while size%8 !=0:\n",
        "    size-=1\n",
        "img= img.crop((0,0,size,size))"
      ],
      "execution_count": null,
      "outputs": []
    },
    {
      "cell_type": "markdown",
      "metadata": {
        "id": "6Ot8KB_ciduj"
      },
      "source": [
        "The modified image should be saved now to be compared later with the end result."
      ]
    },
    {
      "cell_type": "code",
      "metadata": {
        "id": "PuuEcrpPipD6"
      },
      "source": [
        "img.save('greyscale.png')\n"
      ],
      "execution_count": null,
      "outputs": []
    },
    {
      "cell_type": "markdown",
      "metadata": {
        "id": "SLQnLrtSkl22"
      },
      "source": [
        "Now it's time to turn this file into an numpy array for easier handling, and then the DCT transform."
      ]
    },
    {
      "cell_type": "code",
      "metadata": {
        "id": "yhyslXsip0K8"
      },
      "source": [
        "img=np.array(img)\n",
        "img=dct(img)"
      ],
      "execution_count": null,
      "outputs": []
    },
    {
      "cell_type": "markdown",
      "metadata": {
        "id": "XRF-4-yOp3PW"
      },
      "source": [
        "The following algorithm Zigzag through all the 8x8 block of the array and turns some values to zeros, as specified by the variable comp.\n",
        "\n",
        "The larger comp is, the less compressed the png is going to be, and thus, less distorted"
      ]
    },
    {
      "cell_type": "code",
      "metadata": {
        "id": "l0oLEkOIqqzy"
      },
      "source": [
        "comp=8\n",
        "\n",
        "varow=0\n",
        "varco=0\n",
        "thresh=0\n",
        "\n",
        "while varow+8<size:\n",
        "    for i in range (varow,varow+8):\n",
        "         for j in range(varco, varco+8):\n",
        "             if i+j>=varow+varco+comp:\n",
        "                 img[i][j]=0\n",
        "\n",
        "    if varco+8<size:\n",
        "        varco=varco+8\n",
        "    else:\n",
        "        varco=0\n",
        "        varow+=8"
      ],
      "execution_count": null,
      "outputs": []
    },
    {
      "cell_type": "markdown",
      "metadata": {
        "id": "NPcxiIa6qtbT"
      },
      "source": [
        "finally, save the inverse transform."
      ]
    },
    {
      "cell_type": "code",
      "metadata": {
        "id": "YJeeHAJxqu-C"
      },
      "source": [
        "plt.imsave('inv.png', idct(img), cmap='gray')\n"
      ],
      "execution_count": null,
      "outputs": []
    }
  ]
}